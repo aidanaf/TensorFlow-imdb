{
 "cells": [
  {
   "cell_type": "code",
   "execution_count": 1,
   "metadata": {},
   "outputs": [],
   "source": [
    "import tensorflow as tf\n",
    "import tensorflow.compat.v2 as tf\n",
    "import tensorflow_datasets as tfds\n",
    "import tensorflow_hub as hub\n",
    "from tensorflow import keras\n",
    "\n",
    "train_data, test_data = tfds.load(name='imdb_reviews', split=(tfds.Split.TRAIN,tfds.Split.TEST,), as_supervised=True)\n"
   ]
  },
  {
   "cell_type": "code",
   "execution_count": 2,
   "metadata": {},
   "outputs": [
    {
     "data": {
      "text/plain": [
       "<tf.Tensor: shape=(1,), dtype=string, numpy=\n",
       "array([b\"This was an absolutely terrible movie. Don't be lured in by Christopher Walken or Michael Ironside. Both are great actors, but this must simply be their worst role in history. Even their great acting could not redeem this movie's ridiculous storyline. This movie is an early nineties US propaganda piece. The most pathetic scenes were those when the Columbian rebels were making their cases for revolutions. Maria Conchita Alonso appeared phony, and her pseudo-love affair with Walken was nothing but a pathetic emotional plug in a movie that was devoid of any real meaning. I am disappointed that there are movies like this, ruining actor's like Christopher Walken's good name. I could barely sit through it.\"],\n",
       "      dtype=object)>"
      ]
     },
     "execution_count": 2,
     "metadata": {},
     "output_type": "execute_result"
    }
   ],
   "source": [
    "type(train_data), type(test_data)\n",
    "\n",
    "train_examples, train_labels = next(iter(train_data.batch(1)))\n",
    "\n",
    "train_examples"
   ]
  },
  {
   "cell_type": "code",
   "execution_count": 3,
   "metadata": {},
   "outputs": [
    {
     "data": {
      "text/plain": [
       "<tf.Tensor: shape=(1,), dtype=int64, numpy=array([0])>"
      ]
     },
     "execution_count": 3,
     "metadata": {},
     "output_type": "execute_result"
    }
   ],
   "source": [
    "train_labels"
   ]
  },
  {
   "cell_type": "code",
   "execution_count": 4,
   "metadata": {},
   "outputs": [],
   "source": [
    "pretrained_model = \"https://tfhub.dev/google/tf2-preview/gnews-swivel-20dim/1\"\n",
    "hub_layer = hub.KerasLayer(pretrained_model, input_shape=[], dtype=tf.string, trainable=True)\n",
    "\n",
    "model = keras.Sequential()\n",
    "model.add(hub_layer)\n",
    "model.add(keras.layers.Dense(16, activation='relu'))\n",
    "model.add(keras.layers.Dense(1, activation='sigmoid'))\n"
   ]
  },
  {
   "cell_type": "code",
   "execution_count": 5,
   "metadata": {},
   "outputs": [
    {
     "data": {
      "text/plain": [
       "<tf.Tensor: shape=(1,), dtype=string, numpy=\n",
       "array([b\"This was an absolutely terrible movie. Don't be lured in by Christopher Walken or Michael Ironside. Both are great actors, but this must simply be their worst role in history. Even their great acting could not redeem this movie's ridiculous storyline. This movie is an early nineties US propaganda piece. The most pathetic scenes were those when the Columbian rebels were making their cases for revolutions. Maria Conchita Alonso appeared phony, and her pseudo-love affair with Walken was nothing but a pathetic emotional plug in a movie that was devoid of any real meaning. I am disappointed that there are movies like this, ruining actor's like Christopher Walken's good name. I could barely sit through it.\"],\n",
       "      dtype=object)>"
      ]
     },
     "execution_count": 5,
     "metadata": {},
     "output_type": "execute_result"
    }
   ],
   "source": [
    "train_examples[:1]"
   ]
  },
  {
   "cell_type": "code",
   "execution_count": 6,
   "metadata": {},
   "outputs": [
    {
     "data": {
      "text/plain": [
       "<tf.Tensor: shape=(1, 20), dtype=float32, numpy=\n",
       "array([[ 1.765786  , -3.882232  ,  3.9134233 , -1.5557289 , -3.3362343 ,\n",
       "        -1.7357955 , -1.9954445 ,  1.2989551 ,  5.081598  , -1.1041286 ,\n",
       "        -2.0503852 , -0.72675157, -0.65675956,  0.24436149, -3.7208383 ,\n",
       "         2.0954835 ,  2.2969332 , -2.0689783 , -2.9489717 , -1.1315987 ]],\n",
       "      dtype=float32)>"
      ]
     },
     "execution_count": 6,
     "metadata": {},
     "output_type": "execute_result"
    }
   ],
   "source": [
    "hub_layer(train_examples[:1])"
   ]
  },
  {
   "cell_type": "code",
   "execution_count": 7,
   "metadata": {},
   "outputs": [
    {
     "name": "stdout",
     "output_type": "stream",
     "text": [
      "Model: \"sequential_1\"\n",
      "_________________________________________________________________\n",
      "Layer (type)                 Output Shape              Param #   \n",
      "=================================================================\n",
      "keras_layer (KerasLayer)     (None, 20)                400020    \n",
      "_________________________________________________________________\n",
      "dense_2 (Dense)              (None, 16)                336       \n",
      "_________________________________________________________________\n",
      "dense_3 (Dense)              (None, 1)                 17        \n",
      "=================================================================\n",
      "Total params: 400,373\n",
      "Trainable params: 400,373\n",
      "Non-trainable params: 0\n",
      "_________________________________________________________________\n"
     ]
    }
   ],
   "source": [
    "model = tf.keras.Sequential()\n",
    "model.add(hub_layer)\n",
    "model.add(tf.keras.layers.Dense(16,activation=\"relu\"))\n",
    "model.add(tf.keras.layers.Dense(1,activation=\"sigmoid\"))\n",
    "model.summary()"
   ]
  },
  {
   "cell_type": "code",
   "execution_count": 8,
   "metadata": {},
   "outputs": [],
   "source": [
    "model.compile(optimizer=\"adam\", loss=\"binary_crossentropy\", metrics=[\"accuracy\"])"
   ]
  },
  {
   "cell_type": "code",
   "execution_count": 9,
   "metadata": {},
   "outputs": [
    {
     "name": "stdout",
     "output_type": "stream",
     "text": [
      "Epoch 1/20\n",
      "49/49 [==============================] - 2s 29ms/step - loss: 1.0597 - accuracy: 0.5184\n",
      "Epoch 2/20\n",
      "49/49 [==============================] - 1s 27ms/step - loss: 0.6466 - accuracy: 0.6269\n",
      "Epoch 3/20\n",
      "49/49 [==============================] - 1s 27ms/step - loss: 0.5804 - accuracy: 0.7002\n",
      "Epoch 4/20\n",
      "49/49 [==============================] - 1s 28ms/step - loss: 0.5224 - accuracy: 0.7506\n",
      "Epoch 5/20\n",
      "49/49 [==============================] - 1s 27ms/step - loss: 0.4631 - accuracy: 0.7934\n",
      "Epoch 6/20\n",
      "49/49 [==============================] - 1s 27ms/step - loss: 0.4103 - accuracy: 0.8270\n",
      "Epoch 7/20\n",
      "49/49 [==============================] - 1s 27ms/step - loss: 0.3647 - accuracy: 0.8511\n",
      "Epoch 8/20\n",
      "49/49 [==============================] - 1s 27ms/step - loss: 0.3269 - accuracy: 0.8684\n",
      "Epoch 9/20\n",
      "49/49 [==============================] - 1s 27ms/step - loss: 0.2949 - accuracy: 0.8842\n",
      "Epoch 10/20\n",
      "49/49 [==============================] - 1s 27ms/step - loss: 0.2661 - accuracy: 0.8964\n",
      "Epoch 11/20\n",
      "49/49 [==============================] - 1s 26ms/step - loss: 0.2417 - accuracy: 0.9059\n",
      "Epoch 12/20\n",
      "49/49 [==============================] - 1s 29ms/step - loss: 0.2245 - accuracy: 0.9128\n",
      "Epoch 13/20\n",
      "49/49 [==============================] - 1s 27ms/step - loss: 0.2064 - accuracy: 0.9195\n",
      "Epoch 14/20\n",
      "49/49 [==============================] - 1s 26ms/step - loss: 0.1918 - accuracy: 0.9270\n",
      "Epoch 15/20\n",
      "49/49 [==============================] - 1s 27ms/step - loss: 0.1804 - accuracy: 0.9337\n",
      "Epoch 16/20\n",
      "49/49 [==============================] - 1s 27ms/step - loss: 0.1698 - accuracy: 0.9385\n",
      "Epoch 17/20\n",
      "49/49 [==============================] - 1s 26ms/step - loss: 0.1582 - accuracy: 0.9446\n",
      "Epoch 18/20\n",
      "49/49 [==============================] - 1s 27ms/step - loss: 0.1489 - accuracy: 0.9488\n",
      "Epoch 19/20\n",
      "49/49 [==============================] - 1s 27ms/step - loss: 0.1393 - accuracy: 0.9536\n",
      "Epoch 20/20\n",
      "49/49 [==============================] - 1s 27ms/step - loss: 0.1310 - accuracy: 0.9561\n"
     ]
    },
    {
     "data": {
      "text/plain": [
       "<tensorflow.python.keras.callbacks.History at 0x7fbf4d0cefd0>"
      ]
     },
     "execution_count": 9,
     "metadata": {},
     "output_type": "execute_result"
    }
   ],
   "source": [
    "model.fit(train_data.shuffle(1000).batch(512), epochs=20, verbose=1)"
   ]
  },
  {
   "cell_type": "code",
   "execution_count": 14,
   "metadata": {},
   "outputs": [
    {
     "name": "stdout",
     "output_type": "stream",
     "text": [
      "Epoch 1/20\n",
      "49/49 [==============================] - 1s 27ms/step - loss: 0.3084 - accuracy: 0.8744\n",
      "Epoch 2/20\n",
      "49/49 [==============================] - 1s 27ms/step - loss: 0.2609 - accuracy: 0.8936\n",
      "Epoch 3/20\n",
      "49/49 [==============================] - 1s 26ms/step - loss: 0.2343 - accuracy: 0.9064\n",
      "Epoch 4/20\n",
      "49/49 [==============================] - 1s 26ms/step - loss: 0.2154 - accuracy: 0.9148\n",
      "Epoch 5/20\n",
      "49/49 [==============================] - 1s 26ms/step - loss: 0.2001 - accuracy: 0.9226\n",
      "Epoch 6/20\n",
      "49/49 [==============================] - 1s 26ms/step - loss: 0.1874 - accuracy: 0.9300\n",
      "Epoch 7/20\n",
      "49/49 [==============================] - 1s 26ms/step - loss: 0.1755 - accuracy: 0.9354\n",
      "Epoch 8/20\n",
      "49/49 [==============================] - 1s 26ms/step - loss: 0.1652 - accuracy: 0.9407\n",
      "Epoch 9/20\n",
      "49/49 [==============================] - 1s 26ms/step - loss: 0.1558 - accuracy: 0.9448\n",
      "Epoch 10/20\n",
      "49/49 [==============================] - 1s 26ms/step - loss: 0.1475 - accuracy: 0.9494\n",
      "Epoch 11/20\n",
      "49/49 [==============================] - 1s 28ms/step - loss: 0.1393 - accuracy: 0.9529\n",
      "Epoch 12/20\n",
      "49/49 [==============================] - 1s 26ms/step - loss: 0.1311 - accuracy: 0.9560\n",
      "Epoch 13/20\n",
      "49/49 [==============================] - 1s 26ms/step - loss: 0.1232 - accuracy: 0.9610\n",
      "Epoch 14/20\n",
      "49/49 [==============================] - 1s 27ms/step - loss: 0.1163 - accuracy: 0.9634\n",
      "Epoch 15/20\n",
      "49/49 [==============================] - 1s 29ms/step - loss: 0.1095 - accuracy: 0.9665\n",
      "Epoch 16/20\n",
      "49/49 [==============================] - 1s 26ms/step - loss: 0.1035 - accuracy: 0.9693\n",
      "Epoch 17/20\n",
      "49/49 [==============================] - 1s 26ms/step - loss: 0.0978 - accuracy: 0.9714\n",
      "Epoch 18/20\n",
      "49/49 [==============================] - 1s 27ms/step - loss: 0.0915 - accuracy: 0.9742\n",
      "Epoch 19/20\n",
      "49/49 [==============================] - 1s 26ms/step - loss: 0.0860 - accuracy: 0.9761\n",
      "Epoch 20/20\n",
      "49/49 [==============================] - 1s 26ms/step - loss: 0.0806 - accuracy: 0.9784\n"
     ]
    },
    {
     "data": {
      "text/plain": [
       "<tensorflow.python.keras.callbacks.History at 0x7fbf4d306a60>"
      ]
     },
     "execution_count": 14,
     "metadata": {},
     "output_type": "execute_result"
    }
   ],
   "source": [
    "model.fit(test_data.shuffle(1000).batch(512), epochs=20, verbose=1)"
   ]
  },
  {
   "cell_type": "code",
   "execution_count": 15,
   "metadata": {},
   "outputs": [
    {
     "name": "stdout",
     "output_type": "stream",
     "text": [
      "49/49 - 1s - loss: 0.0748 - accuracy: 0.9809\n",
      "loss: 0.075\n",
      "accuracy: 0.981\n"
     ]
    }
   ],
   "source": [
    "results = model.evaluate(test_data.batch(512), verbose=2)\n",
    "\n",
    "for name, value in zip(model.metrics_names, results):\n",
    "  print(\"%s: %.3f\" % (name, value))"
   ]
  },
  {
   "cell_type": "code",
   "execution_count": null,
   "metadata": {},
   "outputs": [],
   "source": []
  }
 ],
 "metadata": {
  "kernelspec": {
   "display_name": "Python 3",
   "language": "python",
   "name": "python3"
  },
  "language_info": {
   "codemirror_mode": {
    "name": "ipython",
    "version": 3
   },
   "file_extension": ".py",
   "mimetype": "text/x-python",
   "name": "python",
   "nbconvert_exporter": "python",
   "pygments_lexer": "ipython3",
   "version": "3.8.5"
  }
 },
 "nbformat": 4,
 "nbformat_minor": 4
}
